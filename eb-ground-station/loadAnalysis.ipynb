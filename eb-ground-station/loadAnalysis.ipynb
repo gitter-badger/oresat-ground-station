{
 "cells": [
  {
   "cell_type": "markdown",
   "metadata": {},
   "source": [
    "# Wind Loading Analysis for the EB Ground Station\n",
    "Basically, we want to know how heavy the feet of the ground station need to be in order to keep it from tipping over in high winds. We are assuming that the antenna will be covered in ice. The criterion for tipping is when the moment due to wind is equal and opposite to the moment due to gravity. (Stress analysis will be done in SolidWorks.)"
   ]
  },
  {
   "cell_type": "code",
   "execution_count": 1,
   "metadata": {
    "collapsed": false
   },
   "outputs": [
    {
     "name": "stdout",
     "output_type": "stream",
     "text": [
      "3.4.3 (default, Nov 17 2016, 01:08:31) \n",
      "[GCC 4.8.4]\n"
     ]
    }
   ],
   "source": [
    "import numpy as np\n",
    "import sys\n",
    "import matplotlib.pyplot as plt\n",
    "print(sys.version)\n",
    "%matplotlib inline"
   ]
  },
  {
   "cell_type": "markdown",
   "metadata": {},
   "source": [
    "## TODO\n",
    "* get the missing parameters\n",
    "    * get the drag coefficient for the antenna/station (with ice)\n",
    "        * you can estimate this if you know the dimensions of the antenna. Just model it as a whole bunch of cylinders. The Cd of a cylinder is well known.\n",
    "    * get the maximum expected wind speed\n",
    "    * get an acceptable factor of safety on the wind speed\n",
    "    * get maximum expected ice thickness\n",
    "    * get the actual value for the center of mass \n",
    "        * get the mass of the blocks\n",
    "        * get the mass of the tubes\n",
    "        * get the mass of the antenna/equipment (with ice)\n",
    "* put things in terms of initial parameters\n",
    "    * CoP in terms of the station dimensions\n",
    "    * wind loading in terms of speed and Cd\n",
    "* make a non-shitty version of the loading diagram"
   ]
  },
  {
   "cell_type": "markdown",
   "metadata": {},
   "source": [
    "![](loadingDiagram.png)"
   ]
  },
  {
   "cell_type": "code",
   "execution_count": 2,
   "metadata": {
    "collapsed": true
   },
   "outputs": [],
   "source": [
    "Lxy_leg= 77 # inches, length of a leg projected in the XY plane\n",
    "Lx_leg= Lxy_leg*np.cos(np.pi/3) # inches, length of a leg projected in the X axis\n",
    "Hz_CoM= 70 # inches, height of the center of mass (THIS IS A GUESS)\n",
    "Hz_CoP= 180 # inches, height of the center of pressure\n",
    "# Fx_wind= 50 # pounds, force on the antenna due to wind\n",
    "g= 32.2*12 # in/s^2, gravitational acceleration\n",
    "Fg= 300 # pounds, weight of the ground station (THIS IS A GUESS)"
   ]
  },
  {
   "cell_type": "markdown",
   "metadata": {},
   "source": [
    "$\n",
    "My_{tip} = 0\\\\\n",
    "0 = Fx_{windCR}*Hz_{CoP} - Fg*Lx_{leg} \\\\\n",
    "Fx_{windCR} = \\frac{Fg*Lx_{leg}}{Hz_{CoP}}\n",
    "$"
   ]
  },
  {
   "cell_type": "code",
   "execution_count": 3,
   "metadata": {
    "collapsed": false
   },
   "outputs": [
    {
     "name": "stdout",
     "output_type": "stream",
     "text": [
      "critical wind force: 64.1666666667 pounds\n"
     ]
    }
   ],
   "source": [
    "Fx_windCR= Fg*Lx_leg/Hz_CoP\n",
    "print('critical wind force:', Fx_windCR, 'pounds')"
   ]
  },
  {
   "cell_type": "code",
   "execution_count": 4,
   "metadata": {
    "collapsed": false
   },
   "outputs": [
    {
     "data": {
      "text/plain": [
       "6.123233995736766e-17"
      ]
     },
     "execution_count": 4,
     "metadata": {},
     "output_type": "execute_result"
    }
   ],
   "source": [
    "np.cos(np.pi/2)"
   ]
  }
 ],
 "metadata": {
  "kernelspec": {
   "display_name": "Python 3",
   "language": "python",
   "name": "python3"
  },
  "language_info": {
   "codemirror_mode": {
    "name": "ipython",
    "version": 3
   },
   "file_extension": ".py",
   "mimetype": "text/x-python",
   "name": "python",
   "nbconvert_exporter": "python",
   "pygments_lexer": "ipython3",
   "version": "3.4.3"
  },
  "varInspector": {
   "cols": {
    "lenName": 16,
    "lenType": 16,
    "lenVar": 40
   },
   "kernels_config": {
    "python": {
     "delete_cmd_postfix": "",
     "delete_cmd_prefix": "del ",
     "library": "var_list.py",
     "varRefreshCmd": "print(var_dic_list())"
    },
    "r": {
     "delete_cmd_postfix": ") ",
     "delete_cmd_prefix": "rm(",
     "library": "var_list.r",
     "varRefreshCmd": "cat(var_dic_list()) "
    }
   },
   "types_to_exclude": [
    "module",
    "function",
    "builtin_function_or_method",
    "instance",
    "_Feature"
   ],
   "window_display": false
  }
 },
 "nbformat": 4,
 "nbformat_minor": 2
}
