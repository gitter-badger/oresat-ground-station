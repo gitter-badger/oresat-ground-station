{
 "cells": [
  {
   "cell_type": "markdown",
   "metadata": {},
   "source": [
    "# Wind Loading Analysis for the EB Ground Station"
   ]
  },
  {
   "cell_type": "markdown",
   "metadata": {},
   "source": [
    "## Intro"
   ]
  },
  {
   "cell_type": "markdown",
   "metadata": {},
   "source": [
    "### Resources\n",
    "* [Average daily wind data for Portland][AWND]\n",
    "* Free historical weather data on [Wunderground]. \n",
    "    * Note: It only displays the data one year at a time, at most... Anyone want to write a little scraping script?\n",
    "* [NOAA report][2007 report] on the 2007 storm. (Costal data)\n",
    "* There's this [city-data thread] where someone claims that 116 mph winds were observed on the Morrison bridge during the Columbus Day storm. Sadly, they do not cite any sources...\n",
    "\n",
    "[AWND]: http://iridl.ldeo.columbia.edu/SOURCES/.NOAA/.NCDC/.DAILY/.FSOD/WBAN+24229+VALUE/.AWND/\n",
    "[Wunderground]: https://www.wunderground.com/history/airport/KPDX/\n",
    "[2007 report]: http://www.wrh.noaa.gov/pqr/paststorms/20071203/tabular_obs.php#winds\n",
    "[city-data thread]: http://www.city-data.com/forum/weather/621044-what-highest-winds-ever-recorded-your-2.html"
   ]
  },
  {
   "cell_type": "markdown",
   "metadata": {},
   "source": [
    "### TODO\n",
    "* get the missing parameters\n",
    "    * get the drag coefficient for the antenna/station (with ice)\n",
    "        * you can estimate this if you know the dimensions of the antenna. Just model it as a whole bunch of cylinders. The Cd of a cylinder is well known.\n",
    "        * Slight annoyance: C_d is a function of Re. The smallest conductors on the antenna will have a different Re than the mast, for example. Buuuuut, a factor of 2 or 3 change in Re usually corresponds to a very small change in C_d. (should be confirmed)\n",
    "    * get the maximum expected wind speed\n",
    "    * get the frontal area for the antenna, with ice\n",
    "        * It would also be neat if we could calculate the corresponding ice thickness.\n",
    "    * get an acceptable factor of safety on the wind speed\n",
    "    * get the actual value for the center of mass \n",
    "        * get the mass of the blocks\n",
    "        * get the mass of the tubes\n",
    "        * get the mass of the antenna/equipment (with ice)\n",
    "* put things in terms of initial parameters\n",
    "    * CoP in terms of the station dimensions\n",
    "    * wind loading in terms of speed and Cd\n",
    "* make a non-shitty version of the loading diagram"
   ]
  },
  {
   "cell_type": "markdown",
   "metadata": {},
   "source": [
    "### Problem Description\n",
    "\n",
    "#### Failure Mode: Tipping\n",
    "We want to know how heavy the feet of the ground station need to be in order to **keep it from tipping over in high winds.**  \n",
    "We are assuming the worst-case is that antenna will be covered in ice during a wind storm. The criterion for tipping is when the moment due to wind is equal and opposite to the moment due to gravity. \n",
    "\n",
    "I'm choosing the foot weight as the \"trim\" variable, since it's a lot easier to just swap out some larger blocks than to find out, say, that we need to redesign the ground station for a larger mast diameter.\n",
    "\n",
    "#### Failure Mode: Bending\n",
    "We also want to know the necessary size and material of the mast, so that it **doesn't bend.**  \n",
    "Stress analysis will be done in SolidWorks."
   ]
  },
  {
   "cell_type": "markdown",
   "metadata": {},
   "source": [
    "### Solution\n",
    "#### Design Process \n",
    "1. choose arbitrary dimensions for the ground station\n",
    "2. find the worst-case loading\n",
    "3. determine if any part of the ground station will yield\n",
    "    * If it does, go to 1.\n",
    "4. determine if the ground station will tip over\n",
    "    * If it will, add weight to the feet.\n",
    "\n",
    "#### Information I/O:\n",
    "* Empirical C_d data: (profile of antenna conductors, typical conductor diameter, ripped plots from Munson book, wind speed) -> approximate C_d for the whole antenna (probably about 1.2) \n",
    "* Drag equation: (wind speed, air density, C_d, frontal area) -> drag on antenna\n",
    "* (same collection of variables as above) -> drag on mast, legs\n",
    "* (leg dimensions, material) -> leg CoM\n",
    "* 2nd law for moments: (CoMs of all components, masses of all components, drag on antenna) -> necessary foot mass to prevent tipping"
   ]
  },
  {
   "cell_type": "markdown",
   "metadata": {},
   "source": [
    "### Setup"
   ]
  },
  {
   "cell_type": "markdown",
   "metadata": {},
   "source": [
    "#### Imports"
   ]
  },
  {
   "cell_type": "code",
   "execution_count": 30,
   "metadata": {
    "collapsed": false
   },
   "outputs": [
    {
     "name": "stdout",
     "output_type": "stream",
     "text": [
      "3.4.3 (default, Nov 17 2016, 01:08:31) \n",
      "[GCC 4.8.4]\n"
     ]
    }
   ],
   "source": [
    "import numpy as np\n",
    "import sys\n",
    "import matplotlib.pyplot as plt\n",
    "import pandas as pd\n",
    "import magnitude as mag\n",
    "from magnitude import mg\n",
    "mag.new_mag('lbm', mag.Magnitude(0.45359237, kg=1))\n",
    "mag.new_mag('lbf', mg(4.4482216152605, 'N'))\n",
    "mag.new_mag('mph', mg(0.44704, 'm/s'))\n",
    "from IPython.display import display, Markdown, Latex\n",
    "def printBig(*message): # like print(), but with header2 formatting\n",
    "    display(Markdown( '## ' + ' '.join([str(x) for x in message]) ))\n",
    "print(sys.version)\n",
    "%matplotlib inline"
   ]
  },
  {
   "cell_type": "markdown",
   "metadata": {},
   "source": [
    "![](loadingDiagram.png)"
   ]
  },
  {
   "cell_type": "code",
   "execution_count": 31,
   "metadata": {
    "collapsed": false
   },
   "outputs": [
    {
     "data": {
      "text/markdown": [
       "## maximum **_average_** daily wind speed in PDX:  34.1 mph"
      ],
      "text/plain": [
       "<IPython.core.display.Markdown object>"
      ]
     },
     "metadata": {},
     "output_type": "display_data"
    },
    {
     "data": {
      "image/png": "[encoded data removed]",
      "text/plain": [
       "<matplotlib.figure.Figure at 0x7fd5cb071470>"
      ]
     },
     "metadata": {},
     "output_type": "display_data"
    }
   ],
   "source": [
    "df_wind= pd.read_csv('NOAA_NCDC_DAILY_FSOD_AWND_averageDailyWindSpeedData_gridtable.tsv', header=1, sep='\\t')\n",
    "plt.plot(df_wind['julian_day'], df_wind['mph'])\n",
    "plt.title('historical average daily wind speeds in PDX')\n",
    "plt.ylabel('wind speed (mph)')\n",
    "plt.xlabel('wierdo units')\n",
    "printBig('maximum **_average_** daily wind speed in PDX: ', round(df_wind['mph'].max(),4), 'mph')"
   ]
  },
  {
   "cell_type": "markdown",
   "metadata": {},
   "source": [
    "#### input parameters"
   ]
  },
  {
   "cell_type": "code",
   "execution_count": 32,
   "metadata": {
    "collapsed": false
   },
   "outputs": [],
   "source": [
    "#### physical quantities ####\n",
    "g= mg(9.81,'m/s2')                  # gravitational acceleration\n",
    "rho_air= mg(1.225,'kg/m3')          # density of air at 0 C\n",
    "mu_air= mg(1.7e-5,'Pa s')           # dynamic viscosity of air at 0 C\n",
    "nu_air= mu_air/rho_air              # kinematic viscosity of air at 0 C\n",
    "rho_steel= mg(7.8e3,'kg/m3')        # density of steel\n",
    "rho_al= mg(2.7e3,'kg/m3')           # density of aluminum\n",
    "rho_fg= mg(1520,'kg/m3')            # density of fiberglass\n",
    "\n",
    "#### ground station parameters ####\n",
    "Cd= mg(1.2)                         # Drag coefficient of a cylinder/antenna at relevant speeds, (THIS IS A GUESS)\n",
    "Fg= mg(300,'lbf')                   # weight of the ground station (THIS IS A GUESS)\n",
    "v_wind= mg(100,'mph')               # max expexted wind speed (WHAT'S THE JUSTIFICATION HERE?)\n",
    "# legs\n",
    "Lxy_leg= mg(77,'inch')              # length of a leg projected in the XY plane\n",
    "L_leg= mg(78.75,'inch')             # length of a leg\n",
    "L_truss= mg(48.75,'inch')           # length of the beam fixing a leg\n",
    "# antennas\n",
    "A_70cm= mg(4.0,'ft2')               # frontal area of the 70 cm antenna\n",
    "A_2m= mg(5.0,'ft2')                 # frontal area of the 2 m antenna\n",
    "# mast\n",
    "L_mast= mg(180,'inch')              # length of the mast\n",
    "OD_mast= mg(1.9,'inch')             # outer diameter of the mast\n",
    "ID_mast= mg(1.48,'inch')            # inner diameter of the mast\n",
    "# cross boom\n",
    "OD_crossBoom= mg(2.0,'inch')        # outer diameter of the cross boom\n",
    "ID_crossBoom= mg(1.5,'inch')        # inner diameter of the cross boom\n",
    "L_crossBoom= mg(60+60+10.75,'inch') # length of the cross boom\n",
    "rho_crossBoom= rho_fg               # density of the cross boom\n",
    "# legs\n",
    "OD_leg= mg(1.0,'inch')              # outer diameter of the legs\n",
    "ID_leg= OD_leg-mg(2*0.2,'inch')     # inner diameter of the legs (GUESSING A 0.2\" wall)\n",
    "\n",
    "# geometry\n",
    "Lx_leg= Lxy_leg*mg(np.cos(np.pi/3)) # length of a leg projected in the X axis\n",
    "A_total= A_70cm+A_2m"
   ]
  },
  {
   "cell_type": "markdown",
   "metadata": {},
   "source": [
    "## Calculations"
   ]
  },
  {
   "cell_type": "code",
   "execution_count": 33,
   "metadata": {
    "collapsed": false
   },
   "outputs": [
    {
     "name": "stdout",
     "output_type": "stream",
     "text": [
      "1228.1532 N\n"
     ]
    }
   ],
   "source": [
    "D_wind= mg(1/2)*rho_air*A_total*Cd*v_wind**2\n",
    "print(D_wind.ounit('N'))"
   ]
  },
  {
   "cell_type": "markdown",
   "metadata": {},
   "source": [
    "$\n",
    "My_{tip} = 0\\\\\n",
    "0 = Fx_{windCR}*Hz_{CoP} - Fg*Lx_{leg} \\\\\n",
    "Fx_{windCR} = \\frac{Fg*Lx_{leg}}{Hz_{CoP}}\n",
    "$"
   ]
  },
  {
   "cell_type": "code",
   "execution_count": 34,
   "metadata": {
    "collapsed": false
   },
   "outputs": [
    {
     "ename": "NameError",
     "evalue": "name 'Hz_CoP' is not defined",
     "output_type": "error",
     "traceback": [
      "\u001b[0;31m---------------------------------------------------------------------------\u001b[0m",
      "\u001b[0;31mNameError\u001b[0m                                 Traceback (most recent call last)",
      "\u001b[0;32m<ipython-input-34-5a554d2dede7>\u001b[0m in \u001b[0;36m<module>\u001b[0;34m()\u001b[0m\n\u001b[0;32m----> 1\u001b[0;31m \u001b[0mFx_windCR\u001b[0m\u001b[0;34m=\u001b[0m \u001b[0mFg\u001b[0m\u001b[0;34m*\u001b[0m\u001b[0mLx_leg\u001b[0m\u001b[0;34m/\u001b[0m\u001b[0mHz_CoP\u001b[0m\u001b[0;34m\u001b[0m\u001b[0m\n\u001b[0m\u001b[1;32m      2\u001b[0m \u001b[0mprintBig\u001b[0m\u001b[0;34m(\u001b[0m\u001b[0;34m'critical wind force:'\u001b[0m\u001b[0;34m,\u001b[0m \u001b[0mround\u001b[0m\u001b[0;34m(\u001b[0m\u001b[0mFx_windCR\u001b[0m\u001b[0;34m,\u001b[0m\u001b[0;36m4\u001b[0m\u001b[0;34m)\u001b[0m \u001b[0;34m,\u001b[0m \u001b[0;34m''\u001b[0m\u001b[0;34m)\u001b[0m\u001b[0;34m\u001b[0m\u001b[0m\n",
      "\u001b[0;31mNameError\u001b[0m: name 'Hz_CoP' is not defined"
     ]
    }
   ],
   "source": [
    "Fx_windCR= Fg*Lx_leg/Hz_CoP\n",
    "printBig('critical wind force:', round(Fx_windCR,4) , '')"
   ]
  }
 ],
 "metadata": {
  "kernelspec": {
   "display_name": "Python 3",
   "language": "python",
   "name": "python3"
  },
  "language_info": {
   "codemirror_mode": {
    "name": "ipython",
    "version": 3
   },
   "file_extension": ".py",
   "mimetype": "text/x-python",
   "name": "python",
   "nbconvert_exporter": "python",
   "pygments_lexer": "ipython3",
   "version": "3.4.3"
  },
  "toc": {
   "colors": {
    "hover_highlight": "#DAA520",
    "navigate_num": "#000000",
    "navigate_text": "#333333",
    "running_highlight": "#FF0000",
    "selected_highlight": "#FFD700",
    "sidebar_border": "#EEEEEE",
    "wrapper_background": "#FFFFFF"
   },
   "moveMenuLeft": true,
   "nav_menu": {
    "height": "183px",
    "width": "254px"
   },
   "navigate_menu": true,
   "number_sections": false,
   "sideBar": true,
   "threshold": 4,
   "toc_cell": false,
   "toc_section_display": "block",
   "toc_window_display": false,
   "widenNotebook": false
  },
  "varInspector": {
   "cols": {
    "lenName": 16,
    "lenType": 16,
    "lenVar": 40
   },
   "kernels_config": {
    "python": {
     "delete_cmd_postfix": "",
     "delete_cmd_prefix": "del ",
     "library": "var_list.py",
     "varRefreshCmd": "print(var_dic_list())"
    },
    "r": {
     "delete_cmd_postfix": ") ",
     "delete_cmd_prefix": "rm(",
     "library": "var_list.r",
     "varRefreshCmd": "cat(var_dic_list()) "
    }
   },
   "types_to_exclude": [
    "module",
    "function",
    "builtin_function_or_method",
    "instance",
    "_Feature"
   ],
   "window_display": false
  }
 },
 "nbformat": 4,
 "nbformat_minor": 2
}
