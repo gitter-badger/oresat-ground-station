{
 "cells": [
  {
   "cell_type": "markdown",
   "metadata": {},
   "source": [
    "# Wind Loading Analysis for the EB Ground Station"
   ]
  },
  {
   "cell_type": "markdown",
   "metadata": {},
   "source": [
    "## Intro"
   ]
  },
  {
   "cell_type": "markdown",
   "metadata": {
    "heading_collapsed": true
   },
   "source": [
    "### Explanations"
   ]
  },
  {
   "cell_type": "markdown",
   "metadata": {
    "hidden": true
   },
   "source": [
    "#### Resources\n",
    "* [Average daily wind data for Portland][AWND]\n",
    "* Free historical weather data on [Wunderground]. \n",
    "    * Note: It only displays the data one year at a time, at most... Anyone want to write a little scraping script?\n",
    "* [NOAA report][2007 report] on the 2007 storm. (Costal data)\n",
    "* There's this [city-data thread] where someone claims that 116 mph winds were observed on the Morrison bridge during the Columbus Day storm. Sadly, they do not cite any sources...\n",
    "\n",
    "[AWND]: http://iridl.ldeo.columbia.edu/SOURCES/.NOAA/.NCDC/.DAILY/.FSOD/WBAN+24229+VALUE/.AWND/\n",
    "[Wunderground]: https://www.wunderground.com/history/airport/KPDX/\n",
    "[2007 report]: http://www.wrh.noaa.gov/pqr/paststorms/20071203/tabular_obs.php#winds\n",
    "[city-data thread]: http://www.city-data.com/forum/weather/621044-what-highest-winds-ever-recorded-your-2.html"
   ]
  },
  {
   "cell_type": "markdown",
   "metadata": {
    "hidden": true
   },
   "source": [
    "#### TODO\n",
    "* get the missing parameters\n",
    "    * get the drag coefficient for the antenna/station (with ice)\n",
    "        * you can estimate this if you know the dimensions of the antenna. Just model it as a whole bunch of cylinders. The Cd of a cylinder is well known.\n",
    "        * Slight annoyance: C_d is a function of Re. The smallest conductors on the antenna will have a different Re than the mast, for example. Buuuuut, a factor of 2 or 3 change in Re usually corresponds to a very small change in C_d. (should be confirmed)\n",
    "    * get the maximum expected wind speed\n",
    "    * get the frontal area for the antenna, with ice\n",
    "        * It would also be neat if we could calculate the corresponding ice thickness.\n",
    "    * get an acceptable factor of safety on the wind speed\n",
    "    * get the actual value for the center of mass \n",
    "        * get the mass of the blocks\n",
    "        * get the mass of the tubes\n",
    "        * get the mass of the antenna/equipment (with ice)\n",
    "* put things in terms of initial parameters\n",
    "    * CoP in terms of the station dimensions\n",
    "    * wind loading in terms of speed and Cd\n",
    "* make a non-shitty version of the loading diagram"
   ]
  },
  {
   "cell_type": "markdown",
   "metadata": {
    "hidden": true
   },
   "source": [
    "#### Problem Description\n",
    "\n",
    "##### Failure Mode: Tipping\n",
    "We want to know how heavy the feet of the ground station need to be in order to **keep it from tipping over in high winds.**  \n",
    "We are assuming the worst-case is that antenna will be covered in ice during a wind storm. The criterion for tipping is when the moment due to wind is equal and opposite to the moment due to gravity. \n",
    "\n",
    "I'm choosing the foot weight as the \"trim\" variable, since it's a lot easier to just swap out some larger blocks than to find out, say, that we need to redesign the ground station for a larger mast diameter.\n",
    "\n",
    "##### Failure Mode: Bending\n",
    "We also want to know the necessary size and material of the mast, so that it **doesn't bend.**  \n",
    "Stress analysis will be done in SolidWorks."
   ]
  },
  {
   "cell_type": "markdown",
   "metadata": {
    "hidden": true
   },
   "source": [
    "#### Solution\n",
    "##### Design Process \n",
    "1. choose arbitrary dimensions for the ground station\n",
    "2. find the worst-case loading\n",
    "3. determine if any part of the ground station will yield\n",
    "    * If it does, go to 1.\n",
    "4. determine if the ground station will tip over\n",
    "    * If it will, add weight to the feet.\n",
    "\n",
    "##### Information I/O:\n",
    "* Empirical C_d data: (profile of antenna conductors, typical conductor diameter, ripped plots from Munson book, wind speed) -> approximate C_d for the whole antenna (probably about 1.2) \n",
    "* Drag equation: (wind speed, air density, C_d, frontal area) -> drag on antenna\n",
    "* (same collection of variables as above) -> drag on mast, legs\n",
    "* (leg dimensions, material) -> leg CoM\n",
    "* 2nd law for moments: (CoMs of all components, masses of all components, drag on antenna) -> necessary foot mass to prevent tipping"
   ]
  },
  {
   "cell_type": "markdown",
   "metadata": {},
   "source": [
    "### Setup"
   ]
  },
  {
   "cell_type": "markdown",
   "metadata": {
    "heading_collapsed": true
   },
   "source": [
    "#### Imports"
   ]
  },
  {
   "cell_type": "code",
   "execution_count": 1,
   "metadata": {
    "collapsed": false,
    "hidden": true,
    "scrolled": true
   },
   "outputs": [
    {
     "name": "stdout",
     "output_type": "stream",
     "text": [
      "3.4.3 (default, Nov 17 2016, 01:08:31) \n",
      "[GCC 4.8.4]\n"
     ]
    }
   ],
   "source": [
    "import numpy as np\n",
    "import sys\n",
    "import matplotlib.pyplot as plt\n",
    "import sympy as sym\n",
    "import pandas as pd\n",
    "import magnitude as mag\n",
    "from magnitude import mg\n",
    "mag.new_mag('lbm', mag.Magnitude(0.45359237, kg=1))\n",
    "mag.new_mag('lbf', mg(4.4482216152605, 'N'))\n",
    "mag.new_mag('mph', mg(0.44704, 'm/s'))\n",
    "from IPython.display import display, Markdown, Latex\n",
    "def printBig(*message): # like print(), but with header2 formatting\n",
    "    display(Markdown( '## ' + ' '.join([str(x) for x in message]) ))\n",
    "# drag force:\n",
    "def dragf(rho, A, Cd, v): return(mg(1/2)*rho*A*Cd*v**2)\n",
    "# second area moment of an annulus:\n",
    "def I_annulus(OD, ID): return(  mg(np.pi/4)*( (OD/mg(2))**4 - (ID/mg(2))**4 )  )\n",
    "# area of an annulus:\n",
    "def annularArea(ID, OD): return(mg(np.pi)*(OD**2/mg(4)-ID**2/mg(4)))\n",
    "print(sys.version)\n",
    "%matplotlib inline\n",
    "sym.init_printing()"
   ]
  },
  {
   "cell_type": "markdown",
   "metadata": {
    "heading_collapsed": true
   },
   "source": [
    "#### Diagram"
   ]
  },
  {
   "cell_type": "markdown",
   "metadata": {
    "hidden": true
   },
   "source": [
    "![](loadingDiagram.png)"
   ]
  },
  {
   "cell_type": "markdown",
   "metadata": {
    "heading_collapsed": true
   },
   "source": [
    "#### input parameters"
   ]
  },
  {
   "cell_type": "code",
   "execution_count": 2,
   "metadata": {
    "collapsed": true,
    "hidden": true
   },
   "outputs": [],
   "source": [
    "FS= mg(1)                           # factor of safety (NOT SURE IF BUILDING CODES HAVE ONE BUILT IN)"
   ]
  },
  {
   "cell_type": "markdown",
   "metadata": {
    "heading_collapsed": true,
    "hidden": true
   },
   "source": [
    "##### physical quantities"
   ]
  },
  {
   "cell_type": "code",
   "execution_count": 3,
   "metadata": {
    "collapsed": true,
    "hidden": true
   },
   "outputs": [],
   "source": [
    "g= mg(9.81,'m/s2')                  # gravitational acceleration\n",
    "rho_air= mg(1.225,'kg/m3')          # density of air at 0 C\n",
    "mu_air= mg(1.7e-5,'Pa s')           # dynamic viscosity of air at 0 C\n",
    "nu_air= mu_air/rho_air              # kinematic viscosity of air at 0 C\n",
    "rho_steel= mg(7.8e3,'kg/m3')        # density of steel\n",
    "rho_al= mg(2.7e3,'kg/m3')           # density of aluminum\n",
    "rho_fg= mg(1520,'kg/m3')            # density of fiberglass\n",
    "rho_concrete= mg(2300,'kg/m3')      # density of concrete\n",
    "sigma_y_al= mg(276,'MPa')           # tensile yield strength of 6061-T6 aluminum"
   ]
  },
  {
   "cell_type": "markdown",
   "metadata": {
    "heading_collapsed": true,
    "hidden": true
   },
   "source": [
    "##### ground station parameters"
   ]
  },
  {
   "cell_type": "code",
   "execution_count": 4,
   "metadata": {
    "collapsed": true,
    "hidden": true
   },
   "outputs": [],
   "source": [
    "Cd= mg(1.2)                         # Drag coefficient of a cylinder/antenna at relevant speeds, (THIS IS A GUESS)\n",
    "# Fg= mg(300,'lbf')                   # weight of the ground station (THIS IS A GUESS)\n",
    "v_wind_actual= mg(100,'mph')        # max expexted wind speed (WHAT'S THE JUSTIFICATION HERE?)\n",
    "v_wind= v_wind_actual*FS            # max expexted wind speed (WHAT'S THE JUSTIFICATION HERE?)\n",
    "# legs\n",
    "Lxy_leg= mg(77,'inch')              # length of a leg projected in the XY plane\n",
    "L_leg= mg(78.75,'inch')             # length of a leg\n",
    "L_truss= mg(48.75,'inch')           # length of the beam fixing a leg\n",
    "\n",
    "# feet\n",
    "Lxy_foot= mg(18.5,'inch')           # side length of the foot's footprint\n",
    "Lz_foot= mg(6,'inch')               # height of the feet\n",
    "\n",
    "# antennas\n",
    "A_70cm= mg(4.0,'ft2')               # frontal area of the 70 cm antenna\n",
    "# A_70cm= mg(0,'ft2')\n",
    "m_70cm= mg(7.5,'lbm')               # mass of the 70 cm antenna\n",
    "A_2m= mg(5.0,'ft2')                 # frontal area of the 2 m antenna\n",
    "# A_2m= mg(0,'ft2')\n",
    "m_2m= mg(9.5, 'lbm')                # mass fo the 2 m antenna\n",
    "\n",
    "# mast\n",
    "L_mast= mg(180,'inch')              # length of the mast\n",
    "OD_mast= mg(1.9,'inch')             # outer diameter of the mast\n",
    "ID_mast= mg(1.48,'inch')            # inner diameter of the mast\n",
    "\n",
    "# cross boom\n",
    "OD_crossBoom= mg(2.0,'inch')        # outer diameter of the cross boom\n",
    "ID_crossBoom= mg(1.5,'inch')        # inner diameter of the cross boom\n",
    "L_crossBoom= mg(60+60+10.75,'inch') # length of the cross boom\n",
    "rho_crossBoom= rho_fg               # density of the cross boom\n",
    "\n",
    "# legs\n",
    "OD_leg= mg(1.0,'inch')              # outer diameter of the legs\n",
    "ID_leg= OD_leg-mg(2*0.2,'inch')     # inner diameter of the legs (GUESSING A 0.2\" wall)"
   ]
  },
  {
   "cell_type": "markdown",
   "metadata": {
    "heading_collapsed": true
   },
   "source": [
    "#### secondary parameters"
   ]
  },
  {
   "cell_type": "code",
   "execution_count": 5,
   "metadata": {
    "collapsed": false,
    "hidden": true,
    "scrolled": false
   },
   "outputs": [],
   "source": [
    "# geometry\n",
    "# L_leg^2 = Lz_leg^2 + Lxy_leg^2\n",
    "Lz_leg= np.sqrt(L_leg**2 - Lxy_leg**2)\n",
    "Lx_leg= Lxy_leg*mg(np.cos(np.pi/6)) # length of a leg projected in the X axis\n",
    "Ly_leg= Lxy_leg*mg(np.cos(np.pi/3)) # length of a leg projected in the X axis\n",
    "\n",
    "# frontal areas\n",
    "A_mast= L_mast*OD_mast\n",
    "A_crossBoom= L_crossBoom*OD_crossBoom\n",
    "A_legs= mg(2)*(Lx_leg*OD_leg) +(Lz_leg*OD_leg)\n",
    "A_total= A_70cm+A_2m+A_mast+A_crossBoom+A_legs\n",
    "\n",
    "# masses\n",
    "m_foot= rho_concrete*Lxy_foot**2*Lz_foot\n",
    "m_mast= rho_al*L_mast*annularArea(ID=ID_mast, OD=OD_mast)\n",
    "m_leg= rho_steel*L_leg*annularArea(ID=ID_leg, OD=OD_mast)\n",
    "m_crossBoom= rho_fg*L_crossBoom*annularArea(ID=ID_crossBoom, OD=OD_crossBoom)\n",
    "m_structure= m_mast+mg(3)*m_leg+m_crossBoom+m_70cm+m_2m\n",
    "\n",
    "# centers of mass\n",
    "Lz_CoM_70cm= L_mast\n",
    "Lz_CoM_2m= L_mast\n",
    "Lz_CoM_mast= L_mast/mg(2)\n",
    "Lz_CoM_foot= Lz_foot/mg(2)\n",
    "Lz_CoM_leg= Lz_foot+Lz_leg/mg(2)\n",
    "Lz_CoM_crossBoom= L_mast"
   ]
  },
  {
   "cell_type": "code",
   "execution_count": 6,
   "metadata": {
    "collapsed": false,
    "hidden": true
   },
   "outputs": [
    {
     "name": "stdout",
     "output_type": "stream",
     "text": [
      "area contributions\n",
      "70cm:\n",
      "0.3716 m2\n",
      "2m:\n",
      "0.4645 m2\n",
      "mast:\n",
      "0.2206 m2\n",
      "cross boom:\n",
      "0.1687 m2\n",
      "legs:\n",
      "0.0967 m2\n",
      "total:\n",
      "1.3222 m2\n"
     ]
    }
   ],
   "source": [
    "print(\n",
    "    'area contributions', \n",
    "    '70cm:', A_70cm.ounit('m2'), \n",
    "    '2m:', A_2m.ounit('m2'), \n",
    "    'mast:', A_mast, \n",
    "    'cross boom:', A_crossBoom, \n",
    "    'legs:', A_legs, \n",
    "    'total:', A_total, \n",
    "    sep='\\n')"
   ]
  },
  {
   "cell_type": "markdown",
   "metadata": {},
   "source": [
    "## Calculations"
   ]
  },
  {
   "cell_type": "markdown",
   "metadata": {},
   "source": [
    "I'm counting the mass of the feet separately, since they aren't rigidly attached to the rest of the ground station. I assume that if the station tips, it will rotate around the pivots on two of the feet. Meanwhile the third (upstream) foot would dangle from the pivot, keeping its CoM directly below the pivot. So, unlike all the other components, I don't assume that the CoM of the feet is centered on the mast. I take it to be the mass of a single foot on the upstream (-X) leg. "
   ]
  },
  {
   "cell_type": "markdown",
   "metadata": {
    "heading_collapsed": true
   },
   "source": [
    "### Tipping"
   ]
  },
  {
   "cell_type": "markdown",
   "metadata": {
    "hidden": true
   },
   "source": [
    "Technically, I'm breaking the right hand rule. I'm using the -Y axis to be the direction of positive rotation. So, on the diagram, a positive rotation would be counter-clockwise. This is just because I'm used to thinking of positive rotation as \"out-of-the-page\", and the -Y axis is out-of-the-page on the diagram."
   ]
  },
  {
   "cell_type": "markdown",
   "metadata": {
    "heading_collapsed": true,
    "hidden": true
   },
   "source": [
    "#### find drag, CoP, CoM"
   ]
  },
  {
   "cell_type": "code",
   "execution_count": 7,
   "metadata": {
    "collapsed": true,
    "hidden": true
   },
   "outputs": [],
   "source": [
    "# center of pressure for the whole station\n",
    "# assuming the CoP for each element is at the CoM (no lift on elem, constant density of elem)\n",
    "Lz_CoP= (\n",
    "             A_mast*Lz_CoM_mast\n",
    "            +A_70cm*Lz_CoM_70cm\n",
    "            +A_2m*Lz_CoM_2m\n",
    "            +A_crossBoom*Lz_CoM_crossBoom\n",
    "            +A_legs*Lz_CoM_leg\n",
    "        )/A_total\n",
    "# height of the CoM of the whole station\n",
    "# (only useful for finding critical tipping angle)\n",
    "Lz_CoM_total= (\n",
    "                 Lz_CoM_mast*m_mast\n",
    "                +Lz_CoM_2m*m_2m\n",
    "                +Lz_CoM_70cm*m_70cm\n",
    "                +Lz_CoM_crossBoom*m_crossBoom\n",
    "                +Lz_CoM_leg*m_leg*mg(3)\n",
    "            )/m_structure\n",
    "# drag on the station\n",
    "#D_wind= mg(1/2)*rho_air*A_total*Cd*v_wind**2\n",
    "D_wind= dragf(rho=rho_air, A=A_total, Cd=Cd, v=v_wind)"
   ]
  },
  {
   "cell_type": "markdown",
   "metadata": {
    "heading_collapsed": true,
    "hidden": true
   },
   "source": [
    "#### balance moments and find required ballast"
   ]
  },
  {
   "cell_type": "code",
   "execution_count": 8,
   "metadata": {
    "collapsed": false,
    "hidden": true
   },
   "outputs": [],
   "source": [
    "# Moments exerted on the station\n",
    "M_wind= -D_wind*(Lz_CoP-Lz_foot) # negative sign from CW direction\n",
    "M_structure= m_structure*g*Lx_leg\n",
    "M_foot= m_foot*g*(Lx_leg+Lxy_leg)\n",
    "# 0 == M_wind + M_structure + M_foot + M_balast\n",
    "M_ballast= -M_wind-M_structure-M_foot\n",
    "# M_ballast == m_ballast*g*(Lx_leg+Lxy_leg)\n",
    "m_ballast= M_ballast/g/(Lx_leg+Lxy_leg) # ballast on the foot\n",
    "# m_ballast= M_ballast/g/(Lx_leg) # ballast on the mast"
   ]
  },
  {
   "cell_type": "markdown",
   "metadata": {
    "heading_collapsed": true,
    "hidden": true
   },
   "source": [
    "#### bending on a welded mast\n",
    "(probably not relevant)"
   ]
  },
  {
   "cell_type": "code",
   "execution_count": 9,
   "metadata": {
    "collapsed": false,
    "hidden": true,
    "scrolled": true
   },
   "outputs": [],
   "source": [
    "# # I= pi/4*(r_o^2 - r_i^2)\n",
    "# I_mast= I_annulus(OD= OD_mast, ID= ID_mast)\n",
    "# M_bending= D_wind*(Lz_CoP - Lz_leg)\n",
    "# # sigma_max= M*y/I\n",
    "# # max stress in the mast, assuming it's anchored at the height of the foot\n",
    "# sigma_max_mast= M_bending*(OD_mast/mg(2))/I_mast\n",
    "# print(\n",
    "#     'tension from bending, if the mast is welded at the height of the feet:', \n",
    "#     sigma_max_mast.ounit('MPa')\n",
    "# )\n",
    "# print('tensile yield stress of the mast:', sigma_y_al.ounit('MPa'))"
   ]
  },
  {
   "cell_type": "markdown",
   "metadata": {
    "hidden": true
   },
   "source": [
    "#### report results"
   ]
  },
  {
   "cell_type": "code",
   "execution_count": 10,
   "metadata": {
    "collapsed": false,
    "hidden": true,
    "scrolled": false
   },
   "outputs": [
    {
     "name": "stdout",
     "output_type": "stream",
     "text": [
      "m_ballast: 175.0440 lbm\n",
      "mass of the required ballast per foot: 175.0440 lbm\n",
      "mass of a foot (for comparison): 170.6310 lbm\n"
     ]
    }
   ],
   "source": [
    "print('m_ballast:', m_ballast.ounit('lbm'))\n",
    "if (m_ballast.val <= 0):\n",
    "    print('No ballast needed. (Wind will not tip station)')\n",
    "else:\n",
    "    print('mass of the required ballast per foot:', m_ballast.ounit('lbm'))\n",
    "    print('mass of a foot (for comparison):', m_foot.ounit('lbm '))"
   ]
  },
  {
   "cell_type": "markdown",
   "metadata": {},
   "source": [
    "### Bending"
   ]
  },
  {
   "cell_type": "markdown",
   "metadata": {},
   "source": [
    "#### determine the loads applied to the mast"
   ]
  },
  {
   "cell_type": "markdown",
   "metadata": {},
   "source": [
    "F_p is a point load. F_d is a distributed load.\n",
    "\n",
    "Drag on the legs is beared equally by the feet and mast (by symmetry)\n",
    "If I ever add in the calculation for the drag on the armpit beams, \n",
    "I'll need to add half their drag to this number for the same reason.\n",
    "And, I'll probably just assume that they have no reaction forces, since they\n",
    "would make things statically indeterminate, which sucks.\n",
    "\n",
    "Use 2nd law for forces and moments to get the reaction forces... Should probably make a diagram explaining where these loads are applied."
   ]
  },
  {
   "cell_type": "code",
   "execution_count": 11,
   "metadata": {
    "collapsed": true
   },
   "outputs": [],
   "source": [
    "F_p_legsDrag= mg(1/2)*dragf(rho=rho_air, A=A_legs, Cd=Cd, v=v_wind)\n",
    "F_p_boom= dragf(\n",
    "                    rho=rho_air, Cd=Cd, v=v_wind,\n",
    "                    A= A_70cm+A_2m+A_crossBoom\n",
    "                    )\n",
    "F_d_mast= dragf(rho=rho_air, Cd=Cd, A=A_mast, v=v_wind) # distributed over the mast\n",
    "\n",
    "# about the base:\n",
    "# sum(M) == 0 == (F_p_legsReact-F_p_legsDrag)*Lz_leg - F_p_boom*L_mast - F_d_mast*L_mast/2\n",
    "# sum(F) == 0 == -F_p_legsReact + F_p_legsDrag + F_p_boom + F_p_baseReact + F_d_mast\n",
    "F_p_legsReact= mg(1)/Lz_leg*( F_p_boom*L_mast + F_d_mast*L_mast/mg(2) ) + F_p_legsDrag\n",
    "F_p_baseReact= F_p_legsReact - F_p_legsDrag - F_p_boom + F_d_mast"
   ]
  },
  {
   "cell_type": "markdown",
   "metadata": {},
   "source": [
    "#### symbolically find loading on the mast"
   ]
  },
  {
   "cell_type": "code",
   "execution_count": 21,
   "metadata": {
    "collapsed": false
   },
   "outputs": [
    {
     "name": "stdout",
     "output_type": "stream",
     "text": [
      "1475.9634 N\n",
      "load distribution expression:\n",
      " 16707.1013383692*DiracDelta(x) + 1475.96342807447*DiracDelta(x - 4.572) - 17858.9687841635*DiracDelta(x - 0.419340461319915) + 70.8871352318976 N/m\n",
      "shear load expression:\n",
      " 70.8871352318976*x + 16707.1013383692*Heaviside(x) + 1475.96342807447*Heaviside(x - 4.572) - 17858.9687841635*Heaviside(x - 0.419340461319915) N\n",
      "bending load expression:\n",
      " 35.4435676159488*x**2 + 16707.1013383692*x*Heaviside(x) + 1475.96342807447*Piecewise((0, 0.218722659667542*Abs(x) < 1), (4.572*meijerg(((2, 1), ()), ((), (1, 0)), 0.218722659667542*x), True)) - 17858.9687841635*Piecewise((0, 2.38469714287146*Abs(x) < 1), (0.419340461319915*meijerg(((2, 1), ()), ((), (1, 0)), 2.38469714287146*x), True)) N m\n"
     ]
    }
   ],
   "source": [
    "# x = sym.symbols('x')\n",
    "# print(F_p_boom.ounit('N'))\n",
    "# # load per length, as a function of length along the mast:\n",
    "# Fdist_expr_mast= F_d_mast/L_mast \\\n",
    "#     + F_p_baseReact*mg(sym.DiracDelta(x),'/m') \\\n",
    "#     + (-F_p_legsReact+F_p_legsDrag)*mg(sym.DiracDelta(x-Lz_leg.toval(ounit='m')),'/m') \\\n",
    "#     + F_p_boom*mg(sym.DiracDelta(x-L_mast.toval(ounit='m')),'/m')\n",
    "# print('load distribution expression:\\n', Fdist_expr_mast.toval(ounit='N/m'), 'N/m')\n",
    "# # shear load, as a function of length along the mast:\n",
    "# F_expr_mast= mg(sym.integrate(Fdist_expr_mast.toval(ounit='N/m'), x),'N')\n",
    "# print('shear load expression:\\n', F_expr_mast.toval(ounit='N'), 'N')\n",
    "# # bending moment, as a function of length along the mast:\n",
    "# M_expr_mast= mg(sym.integrate(F_expr_mast.toval(ounit='N'),x), 'N m')\n",
    "# print('bending load expression:\\n', M_expr_mast.toval(ounit='N m'), 'N m')"
   ]
  },
  {
   "cell_type": "code",
   "execution_count": 21,
   "metadata": {
    "collapsed": false
   },
   "outputs": [
    {
     "name": "stdout",
     "output_type": "stream",
     "text": [
      "1475.9634 N\n",
      "load distribution expression:\n",
      " 16707.1013383692*DiracDelta(x) + 1475.96342807447*DiracDelta(x - 4.572) - 17858.9687841635*DiracDelta(x - 0.419340461319915) + 70.8871352318976 N/m\n",
      "shear load expression:\n",
      " 70.8871352318976*x + 16707.1013383692*Heaviside(x) + 1475.96342807447*Heaviside(x - 4.572) - 17858.9687841635*Heaviside(x - 0.419340461319915) N\n",
      "bending load expression:\n",
      " 35.4435676159488*x**2 + 16707.1013383692*x*Heaviside(x) + 1475.96342807447*Piecewise((0, 0.218722659667542*Abs(x) < 1), (4.572*meijerg(((2, 1), ()), ((), (1, 0)), 0.218722659667542*x), True)) - 17858.9687841635*Piecewise((0, 2.38469714287146*Abs(x) < 1), (0.419340461319915*meijerg(((2, 1), ()), ((), (1, 0)), 2.38469714287146*x), True)) N m\n"
     ]
    }
   ],
   "source": [
    "x = sym.symbols('x')\n",
    "# load per length, as a function of length along the mast:\n",
    "Fdist_expr_mast= F_d_mast.toval('N')/L_mast.toval('m') \\\n",
    "    + F_p_baseReact.toval('N')*sym.DiracDelta(x) \\\n",
    "    + (-F_p_legsReact.toval('N')+F_p_legsDrag.toval('N'))*sym.DiracDelta(x-Lz_leg.toval(ounit='m')) \\\n",
    "    + F_p_boom.toval('N')*sym.DiracDelta(x-L_mast.toval(ounit='m'))\n",
    "print('load distribution expression:\\n', Fdist_expr_mast.toval(ounit='N/m'), 'N/m')\n",
    "# shear load, as a function of length along the mast:\n",
    "F_expr_mast= mg(sym.integrate(Fdist_expr_mast.toval(ounit='N/m'), x),'N')\n",
    "print('shear load expression:\\n', F_expr_mast.toval(ounit='N'), 'N')\n",
    "# bending moment, as a function of length along the mast:\n",
    "M_expr_mast= mg(sym.integrate(F_expr_mast.toval(ounit='N'),x), 'N m')\n",
    "print('bending load expression:\\n', M_expr_mast.toval(ounit='N m'), 'N m')"
   ]
  },
  {
   "cell_type": "markdown",
   "metadata": {},
   "source": [
    "#### "
   ]
  },
  {
   "cell_type": "code",
   "execution_count": 12,
   "metadata": {
    "collapsed": false,
    "scrolled": true
   },
   "outputs": [
    {
     "name": "stdout",
     "output_type": "stream",
     "text": [
      "16707.1013383692*DiracDelta(x) + 1475.96342807447*DiracDelta(x - 180.0) - 17858.9687841635*DiracDelta(x - 0.419340461319915) + 70.8871352318976\n",
      "70.8871352318976*x + 16707.1013383692*Heaviside(x) + 1475.96342807447*Heaviside(x - 180.0) - 17858.9687841635*Heaviside(x - 0.419340461319915)\n",
      "324.0960 m kg / s2\n",
      "16707.1013 m kg / s2.0\n",
      "17929.9844 m kg / s2.0\n",
      "71.0156 m kg / s2\n",
      "1475.9634 m kg / s2\n"
     ]
    },
    {
     "ename": "NameError",
     "evalue": "name 'I_mast' is not defined",
     "output_type": "error",
     "traceback": [
      "\u001b[0;31m---------------------------------------------------------------------------\u001b[0m",
      "\u001b[0;31mNameError\u001b[0m                                 Traceback (most recent call last)",
      "\u001b[0;32m<ipython-input-12-1fdd121a353d>\u001b[0m in \u001b[0;36m<module>\u001b[0;34m()\u001b[0m\n\u001b[1;32m     15\u001b[0m \u001b[0mplt\u001b[0m\u001b[0;34m.\u001b[0m\u001b[0mfigure\u001b[0m\u001b[0;34m(\u001b[0m\u001b[0;34m)\u001b[0m\u001b[0;34m\u001b[0m\u001b[0m\n\u001b[1;32m     16\u001b[0m \u001b[0mplt\u001b[0m\u001b[0;34m.\u001b[0m\u001b[0mplot\u001b[0m\u001b[0;34m(\u001b[0m\u001b[0mxs\u001b[0m\u001b[0;34m,\u001b[0m \u001b[0mMs\u001b[0m\u001b[0;34m.\u001b[0m\u001b[0mtoval\u001b[0m\u001b[0;34m(\u001b[0m\u001b[0mounit\u001b[0m\u001b[0;34m=\u001b[0m\u001b[0;34m'N m'\u001b[0m\u001b[0;34m)\u001b[0m\u001b[0;34m)\u001b[0m\u001b[0;34m\u001b[0m\u001b[0m\n\u001b[0;32m---> 17\u001b[0;31m \u001b[0msigmas\u001b[0m\u001b[0;34m=\u001b[0m \u001b[0mMs\u001b[0m\u001b[0;34m*\u001b[0m\u001b[0;34m(\u001b[0m\u001b[0mOD_mast\u001b[0m\u001b[0;34m/\u001b[0m\u001b[0mmg\u001b[0m\u001b[0;34m(\u001b[0m\u001b[0;36m2\u001b[0m\u001b[0;34m)\u001b[0m\u001b[0;34m)\u001b[0m\u001b[0;34m/\u001b[0m\u001b[0mI_mast\u001b[0m\u001b[0;34m\u001b[0m\u001b[0m\n\u001b[0m\u001b[1;32m     18\u001b[0m \u001b[0mplt\u001b[0m\u001b[0;34m.\u001b[0m\u001b[0mfigure\u001b[0m\u001b[0;34m(\u001b[0m\u001b[0;34m)\u001b[0m\u001b[0;34m\u001b[0m\u001b[0m\n\u001b[1;32m     19\u001b[0m \u001b[0mplt\u001b[0m\u001b[0;34m.\u001b[0m\u001b[0mplot\u001b[0m\u001b[0;34m(\u001b[0m\u001b[0mxs\u001b[0m\u001b[0;34m,\u001b[0m \u001b[0msigmas\u001b[0m\u001b[0;34m.\u001b[0m\u001b[0mtoval\u001b[0m\u001b[0;34m(\u001b[0m\u001b[0mounit\u001b[0m\u001b[0;34m=\u001b[0m\u001b[0;34m'MPa'\u001b[0m\u001b[0;34m)\u001b[0m\u001b[0;34m)\u001b[0m\u001b[0;34m\u001b[0m\u001b[0m\n",
      "\u001b[0;31mNameError\u001b[0m: name 'I_mast' is not defined"
     ]
    },
    {
     "data": {
      "image/png": "[encoded data removed]",
      "text/plain": [
       "<matplotlib.figure.Figure at 0x7f4188a1bcc0>"
      ]
     },
     "metadata": {},
     "output_type": "display_data"
    },
    {
     "data": {
      "image/png": "[encoded data removed]",
      "text/plain": [
       "<matplotlib.figure.Figure at 0x7f4188859358>"
      ]
     },
     "metadata": {},
     "output_type": "display_data"
    }
   ],
   "source": [
    "xs= np.linspace(-1e-6, L_mast.toval(ounit='m')+1e-6, 300)\n",
    "Fsf= sym.lambdify(x,F_expr_mast.toval(ounit='N'), ['numpy','sympy'])\n",
    "Fs= mg(np.array([Fsf(x) for x in xs]),'N')\n",
    "Vs= Fs/annularArea(OD=OD_mast, ID=ID_mast)\n",
    "plt.plot(xs, Vs.toval(ounit='MPa'))\n",
    "print(F_d_mast, F_p_baseReact, F_p_legsReact, F_p_legsDrag, F_p_boom, sep='\\n')\n",
    "Msf= sym.lambdify(x, M_expr_mast.toval(ounit='N m'), ['numpy', 'sympy'])\n",
    "Ms= mg(np.array([Msf(x) for x in xs]),'N m')\n",
    "plt.figure()\n",
    "plt.plot(xs, Ms.toval(ounit='N m'))\n",
    "sigmas= Ms*(OD_mast/mg(2))/I_mast\n",
    "plt.figure()\n",
    "plt.plot(xs, sigmas.toval(ounit='MPa'))"
   ]
  },
  {
   "cell_type": "code",
   "execution_count": null,
   "metadata": {
    "collapsed": false
   },
   "outputs": [],
   "source": [
    "#OD_mast_new= \n",
    "#ID_mast_new= "
   ]
  },
  {
   "cell_type": "code",
   "execution_count": 13,
   "metadata": {
    "collapsed": false,
    "scrolled": true
   },
   "outputs": [
    {
     "name": "stdout",
     "output_type": "stream",
     "text": [
      "436.5993 lbf\n",
      "12.7383 ft\n",
      "175.0440 lbm\n"
     ]
    }
   ],
   "source": [
    "print(D_wind.ounit('lbf'))\n",
    "print(Lz_CoP.ounit('ft'))\n",
    "print(m_ballast.ounit('lbm'))"
   ]
  },
  {
   "cell_type": "markdown",
   "metadata": {},
   "source": [
    "Okay, so, I totally forgot about the \"armpit\" beams that fix the legs at a particular angle. But, those don't really matter too much, since they're only going to make things worse. The takeaway is that we'd need to add an excessive amount of ballast to the feet (more than doubling their mass), which means we need a different design of ground station (pole on a plate, or something). \n",
    "\n",
    "It looks like the mast will still need some sort of reinforcement, since it's (currently) way under-built for a 100 mph load. "
   ]
  },
  {
   "cell_type": "markdown",
   "metadata": {},
   "source": [
    "$\n",
    "My_{tip} = 0\\\\\n",
    "0 = Fx_{windCR}*Hz_{CoP} - Fg*Lx_{leg} \\\\\n",
    "Fx_{windCR} = \\frac{Fg*Lx_{leg}}{Hz_{CoP}}\n",
    "$"
   ]
  }
 ],
 "metadata": {
  "kernelspec": {
   "display_name": "Python 3",
   "language": "python",
   "name": "python3"
  },
  "language_info": {
   "codemirror_mode": {
    "name": "ipython",
    "version": 3
   },
   "file_extension": ".py",
   "mimetype": "text/x-python",
   "name": "python",
   "nbconvert_exporter": "python",
   "pygments_lexer": "ipython3",
   "version": "3.4.3"
  },
  "toc": {
   "colors": {
    "hover_highlight": "#DAA520",
    "navigate_num": "#000000",
    "navigate_text": "#333333",
    "running_highlight": "#FF0000",
    "selected_highlight": "#FFD700",
    "sidebar_border": "#EEEEEE",
    "wrapper_background": "#FFFFFF"
   },
   "moveMenuLeft": true,
   "nav_menu": {
    "height": "183px",
    "width": "254px"
   },
   "navigate_menu": true,
   "number_sections": false,
   "sideBar": true,
   "threshold": 4,
   "toc_cell": false,
   "toc_section_display": "block",
   "toc_window_display": false,
   "widenNotebook": false
  },
  "varInspector": {
   "cols": {
    "lenName": 16,
    "lenType": 16,
    "lenVar": 40
   },
   "kernels_config": {
    "python": {
     "delete_cmd_postfix": "",
     "delete_cmd_prefix": "del ",
     "library": "var_list.py",
     "varRefreshCmd": "print(var_dic_list())"
    },
    "r": {
     "delete_cmd_postfix": ") ",
     "delete_cmd_prefix": "rm(",
     "library": "var_list.r",
     "varRefreshCmd": "cat(var_dic_list()) "
    }
   },
   "types_to_exclude": [
    "module",
    "function",
    "builtin_function_or_method",
    "instance",
    "_Feature"
   ],
   "window_display": false
  }
 },
 "nbformat": 4,
 "nbformat_minor": 2
}
